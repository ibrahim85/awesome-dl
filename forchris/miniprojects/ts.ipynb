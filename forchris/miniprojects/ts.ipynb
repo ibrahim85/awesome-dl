{
 "cells": [
  {
   "cell_type": "code",
   "execution_count": 1,
   "metadata": {
    "collapsed": true
   },
   "outputs": [],
   "source": [
    "%matplotlib inline\n",
    "import matplotlib\n",
    "import seaborn as sns\n",
    "matplotlib.rcParams['savefig.dpi'] = 144"
   ]
  },
  {
   "cell_type": "code",
   "execution_count": 2,
   "metadata": {
    "collapsed": false
   },
   "outputs": [
    {
     "name": "stdout",
     "output_type": "stream",
     "text": [
      "WARNING: You are missing a unique key. Scores will still be reported, but not scored.\n",
      "Please show this message to a TDI staff member.\n"
     ]
    }
   ],
   "source": [
    "from grader import score"
   ]
  },
  {
   "cell_type": "markdown",
   "metadata": {},
   "source": [
    "# Time Series Data: Predict Temperature\n",
    "Time series prediction presents its own challenges which are different from machine-learning problems.  As with many other classes of problems, there are a number of common features in these predictions.\n",
    "\n",
    "## Fetch the data:"
   ]
  },
  {
   "cell_type": "code",
   "execution_count": 3,
   "metadata": {
    "collapsed": false
   },
   "outputs": [],
   "source": [
    "!aws s3 sync s3://dataincubator-course/mldata/ . --exclude '*' --include 'train.txt.gz'"
   ]
  },
  {
   "cell_type": "markdown",
   "metadata": {},
   "source": [
    "The columns of the data correspond to the\n",
    "  - year\n",
    "  - month\n",
    "  - day\n",
    "  - hour\n",
    "  - temp\n",
    "  - dew_temp\n",
    "  - pressure\n",
    "  - wind_angle\n",
    "  - wind_speed\n",
    "  - sky_code\n",
    "  - rain_hour\n",
    "  - rain_6hour\n",
    "  - city\n",
    "\n",
    "We will focus on using the temporal elements to predict the temperature.\n",
    "\n",
    "## Per city model\n",
    "\n",
    "It makes sense for each city to have it's own model.  Build a \"groupby\" estimator that takes an estimator as an argument and builds the resulting \"groupby\" estimator on each city.  That is, `fit` should fit a model per city while the `predict` method should look up the corresponding model and perform a predict on each."
   ]
  },
  {
   "cell_type": "markdown",
   "metadata": {},
   "source": [
    "# Questions\n",
    "\n",
    "For each question, build a model to predict the temperature in a given city at a given time.  You will be given a list of records, each a string in the same format as the lines in the training file.  Return a list of predicted temperatures, one for each incoming record.\n",
    "\n",
    "## month_hour_model\n",
    "There are two ways to handle seasonality.  Seasonality features are nice because they are good at projecting arbitrarily far into the future.\n",
    "\n",
    "The simplest (and perhaps most robust) is to have a set of indicator variables for each month. That is to say, make the assumption that the temperature at any given time is a function of only the month of the year, and the hour of the day, and use that to predict the temperature value.  As you can imagine, the temperature values will be stripped out in the actual text records that are passed.\n",
    "\n",
    "**Question**: Should month be a continuous or categorical variable?"
   ]
  },
  {
   "cell_type": "code",
   "execution_count": 4,
   "metadata": {
    "collapsed": false
   },
   "outputs": [
    {
     "name": "stdout",
     "output_type": "stream",
     "text": [
      "==================\n",
      "Your score:  -2.80125110686\n",
      "==================\n"
     ]
    }
   ],
   "source": [
    "score('ts__month_hour_model', lambda x: [0] * len(x))"
   ]
  },
  {
   "cell_type": "markdown",
   "metadata": {},
   "source": [
    "## fourier_model\n",
    "Since we know that temperature is roughly sinusoidal, we know that a reasonable model might be\n",
    "\n",
    "$$ y_t = y_0 \\sin\\left(2\\pi\\frac{t - t_0}{T}\\right) + \\epsilon $$\n",
    "\n",
    "where $k$ and $t_0$ are parameters to be learned and $T$ is one year for seasonal variation.  While this is linear in $y_0$, it is not linear in $t_0$. However, we know from Fourier analysis, that the above is\n",
    "equivalent to\n",
    "\n",
    "$$ y_t = A \\sin\\left(2\\pi\\frac{t}{T}\\right) + B \\cos\\left(2\\pi\\frac{t}{T}\\right) + \\epsilon $$\n",
    "\n",
    "which is linear in $A$ and $B$.\n",
    "\n",
    "Create a model containing sinusoidal terms on one or more time scales, and fit it to the data using a linear regression."
   ]
  },
  {
   "cell_type": "code",
   "execution_count": null,
   "metadata": {
    "collapsed": false,
    "scrolled": true
   },
   "outputs": [],
   "source": [
    "score('ts__fourier_model', lambda x: [0] * len(x))"
   ]
  },
  {
   "cell_type": "markdown",
   "metadata": {},
   "source": [
    "*Copyright &copy; 2016 The Data Incubator.  All rights reserved.*"
   ]
  }
 ],
 "metadata": {
  "anaconda-cloud": {},
  "kernelspec": {
   "display_name": "Python 3",
   "language": "python",
   "name": "python3"
  },
  "language_info": {
   "codemirror_mode": {
    "name": "ipython",
    "version": 3
   },
   "file_extension": ".py",
   "mimetype": "text/x-python",
   "name": "python",
   "nbconvert_exporter": "python",
   "pygments_lexer": "ipython3",
   "version": "3.6.0"
  }
 },
 "nbformat": 4,
 "nbformat_minor": 0
}
